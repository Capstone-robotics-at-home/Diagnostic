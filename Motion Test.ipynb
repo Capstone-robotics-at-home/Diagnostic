{
 "cells": [
  {
   "cell_type": "code",
   "execution_count": 1,
   "metadata": {},
   "outputs": [],
   "source": [
    "from jetbot import Robot\n",
    "from jetbot import Motor\n",
    "robot = Robot()\n",
    "import jetbot\n",
    "import time"
   ]
  },
  {
   "cell_type": "code",
   "execution_count": 91,
   "metadata": {},
   "outputs": [],
   "source": [
    "#Motion Test\n",
    "action = 'left'\n",
    "pwr = 0.3\n",
    "T = 5\n",
    "if action == 'left':\n",
    "    robot.left(speed=pwr)\n",
    "elif action == 'right':\n",
    "    robot.right(speed=pwr)\n",
    "elif action == 'forward':\n",
    "    robot.forward(speed=pwr)\n",
    "elif action == 'backward':\n",
    "    robot.backward(speed=pwr)\n",
    "elif action == 'brush':\n",
    "    brush_motor.value = pwr\n",
    "else:\n",
    "    print(\"Input error, please set action equal to right, left, etc\")\n",
    "time.sleep(T)\n",
    "if action =='brush':\n",
    "    brush_motor.value = 0\n",
    "else:\n",
    "    robot.stop()"
   ]
  },
  {
   "cell_type": "code",
   "execution_count": 88,
   "metadata": {},
   "outputs": [],
   "source": [
    "#Analog motion test\n",
    "robot.set_motors(0.5,1)\n",
    "time.sleep(0.3)\n",
    "robot.set_motors(0,0)"
   ]
  },
  {
   "cell_type": "code",
   "execution_count": 5,
   "metadata": {},
   "outputs": [],
   "source": [
    "#Brush Test\n",
    "import traitlets\n",
    "from traitlets.config.configurable import SingletonConfigurable\n",
    "from Adafruit_MotorHAT import Adafruit_MotorHAT"
   ]
  },
  {
   "cell_type": "code",
   "execution_count": 8,
   "metadata": {},
   "outputs": [
    {
     "ename": "AttributeError",
     "evalue": "module 'jetbot' has no attribute 'motor_driver'",
     "output_type": "error",
     "traceback": [
      "\u001b[0;31m\u001b[0m",
      "\u001b[0;31mAttributeError\u001b[0mTraceback (most recent call last)",
      "\u001b[0;32m<ipython-input-8-1173e6327769>\u001b[0m in \u001b[0;36m<module>\u001b[0;34m\u001b[0m\n\u001b[1;32m      2\u001b[0m \u001b[0mbrush_motor_channel\u001b[0m \u001b[0;34m=\u001b[0m \u001b[0mtraitlets\u001b[0m\u001b[0;34m.\u001b[0m\u001b[0mInteger\u001b[0m\u001b[0;34m(\u001b[0m\u001b[0mdefault_value\u001b[0m\u001b[0;34m=\u001b[0m\u001b[0;36m3\u001b[0m\u001b[0;34m)\u001b[0m\u001b[0;34m.\u001b[0m\u001b[0mtag\u001b[0m\u001b[0;34m(\u001b[0m\u001b[0mconfig\u001b[0m\u001b[0;34m=\u001b[0m\u001b[0;32mTrue\u001b[0m\u001b[0;34m)\u001b[0m    \u001b[0;31m#\u001b[0m\u001b[0;34m\u001b[0m\u001b[0;34m\u001b[0m\u001b[0m\n\u001b[1;32m      3\u001b[0m \u001b[0mbrush_motor_alpha\u001b[0m \u001b[0;34m=\u001b[0m \u001b[0mtraitlets\u001b[0m\u001b[0;34m.\u001b[0m\u001b[0mFloat\u001b[0m\u001b[0;34m(\u001b[0m\u001b[0mdefault_value\u001b[0m\u001b[0;34m=\u001b[0m\u001b[0;36m1.0\u001b[0m\u001b[0;34m)\u001b[0m\u001b[0;34m.\u001b[0m\u001b[0mtag\u001b[0m\u001b[0;34m(\u001b[0m\u001b[0mconfig\u001b[0m\u001b[0;34m=\u001b[0m\u001b[0;32mTrue\u001b[0m\u001b[0;34m)\u001b[0m      \u001b[0;31m#\u001b[0m\u001b[0;34m\u001b[0m\u001b[0;34m\u001b[0m\u001b[0m\n\u001b[0;32m----> 4\u001b[0;31m \u001b[0mjetbot\u001b[0m\u001b[0;34m.\u001b[0m\u001b[0mbrush_motor\u001b[0m \u001b[0;34m=\u001b[0m \u001b[0mMotor\u001b[0m\u001b[0;34m(\u001b[0m\u001b[0mjetbot\u001b[0m\u001b[0;34m.\u001b[0m\u001b[0mmotor_driver\u001b[0m\u001b[0;34m,\u001b[0m \u001b[0mchannel\u001b[0m\u001b[0;34m=\u001b[0m\u001b[0mjetbot\u001b[0m\u001b[0;34m.\u001b[0m\u001b[0mbrush_motor_channel\u001b[0m\u001b[0;34m,\u001b[0m \u001b[0malpha\u001b[0m\u001b[0;34m=\u001b[0m\u001b[0mjetbot\u001b[0m\u001b[0;34m.\u001b[0m\u001b[0mbrush_motor_alpha\u001b[0m\u001b[0;34m)\u001b[0m     \u001b[0;31m#\u001b[0m\u001b[0;34m\u001b[0m\u001b[0;34m\u001b[0m\u001b[0m\n\u001b[0m\u001b[1;32m      5\u001b[0m \u001b[0;34m\u001b[0m\u001b[0m\n",
      "\u001b[0;31mAttributeError\u001b[0m: module 'jetbot' has no attribute 'motor_driver'"
     ]
    }
   ],
   "source": [
    "\n",
    "brush_motor = traitlets.Instance(Motor)     #\n",
    "brush_motor_channel = traitlets.Integer(default_value=3).tag(config=True)    #\n",
    "brush_motor_alpha = traitlets.Float(default_value=1.0).tag(config=True)      #\n",
    "jetbot.brush_motor = Motor(jetbot.motor_driver, channel=jetbot.brush_motor_channel, alpha=jetbot.brush_motor_alpha)     #\n",
    "\n"
   ]
  },
  {
   "cell_type": "code",
   "execution_count": null,
   "metadata": {},
   "outputs": [],
   "source": [
    "robot.brush(1)\n",
    "time.sleep(2)\n",
    "robot.brush(0)"
   ]
  }
 ],
 "metadata": {
  "kernelspec": {
   "display_name": "Python 3",
   "language": "python",
   "name": "python3"
  },
  "language_info": {
   "codemirror_mode": {
    "name": "ipython",
    "version": 3
   },
   "file_extension": ".py",
   "mimetype": "text/x-python",
   "name": "python",
   "nbconvert_exporter": "python",
   "pygments_lexer": "ipython3",
   "version": "3.6.9"
  }
 },
 "nbformat": 4,
 "nbformat_minor": 4
}
